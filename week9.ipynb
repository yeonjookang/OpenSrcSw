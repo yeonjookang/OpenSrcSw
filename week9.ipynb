{
 "cells": [
  {
   "cell_type": "markdown",
   "id": "4ed4e359",
   "metadata": {},
   "source": [
    "week9"
   ]
  },
  {
   "cell_type": "code",
   "execution_count": 1,
   "id": "eab51b8a",
   "metadata": {},
   "outputs": [
    {
     "name": "stdout",
     "output_type": "stream",
     "text": [
      "7 시간  36  분\n"
     ]
    }
   ],
   "source": [
    "# 실습문제 1번\n",
    "\n",
    "x=(int)(456/60)\n",
    "y=456%60\n",
    "print(x,\"시간 \",y,\" 분\")"
   ]
  },
  {
   "cell_type": "code",
   "execution_count": 2,
   "id": "0eefbd49",
   "metadata": {},
   "outputs": [
    {
     "name": "stdout",
     "output_type": "stream",
     "text": [
      "['김철수', '이영희', '임꺽정', '홍길동']\n",
      "김철수 2.8\n"
     ]
    }
   ],
   "source": [
    "# 실습문제 2번\n",
    "\n",
    "dic={\"홍길동\":3.4,\"임꺽정\":4.0,\"김철수\":2.8,\"이영희\":3.9}\n",
    "\n",
    "data=dic.keys()\n",
    "data_list=list(data)\n",
    "data_list.sort()\n",
    "print(data_list)\n",
    "\n",
    "key=data_list[0]\n",
    "value=dic[key]\n",
    "print(key,value)"
   ]
  },
  {
   "cell_type": "code",
   "execution_count": null,
   "id": "7e76b09a",
   "metadata": {},
   "outputs": [],
   "source": []
  }
 ],
 "metadata": {
  "kernelspec": {
   "display_name": "Python 3 (ipykernel)",
   "language": "python",
   "name": "python3"
  },
  "language_info": {
   "codemirror_mode": {
    "name": "ipython",
    "version": 3
   },
   "file_extension": ".py",
   "mimetype": "text/x-python",
   "name": "python",
   "nbconvert_exporter": "python",
   "pygments_lexer": "ipython3",
   "version": "3.10.4"
  }
 },
 "nbformat": 4,
 "nbformat_minor": 5
}
