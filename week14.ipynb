{
 "cells": [
  {
   "cell_type": "markdown",
   "id": "a068ed5e",
   "metadata": {},
   "source": [
    "week 14"
   ]
  },
  {
   "cell_type": "code",
   "execution_count": 8,
   "id": "db7073b3",
   "metadata": {},
   "outputs": [
    {
     "name": "stdout",
     "output_type": "stream",
     "text": [
      "        unit price  number\n",
      "store1        1000      25\n",
      "store2         280     120\n",
      "store3         900      30\n",
      "        unit price  number  total price\n",
      "store1        1000      25        25000\n",
      "store2         280     120        33600\n",
      "store3         900      30        27000\n",
      "        unit price  number  total price\n",
      "store2         280     120        33600\n"
     ]
    }
   ],
   "source": [
    "#실습문제 1\n",
    "import pandas as pd\n",
    "import numpy as np\n",
    "\n",
    "df=pd.DataFrame(np.array([[1000,25],[280,120],[900,30]]),index=['store1','store2','store3'],columns=['unit price','number'])\n",
    "print(df)\n",
    "\n",
    "df['total price']=df['unit price']*df['number']\n",
    "print(df)\n",
    "\n",
    "mx=df['total price'].max()\n",
    "df2=df[df['total price']==mx]\n",
    "print(df2)"
   ]
  },
  {
   "cell_type": "code",
   "execution_count": null,
   "id": "442c7a95",
   "metadata": {},
   "outputs": [],
   "source": []
  },
  {
   "cell_type": "code",
   "execution_count": null,
   "id": "168ae064",
   "metadata": {},
   "outputs": [],
   "source": []
  }
 ],
 "metadata": {
  "kernelspec": {
   "display_name": "Python 3 (ipykernel)",
   "language": "python",
   "name": "python3"
  },
  "language_info": {
   "codemirror_mode": {
    "name": "ipython",
    "version": 3
   },
   "file_extension": ".py",
   "mimetype": "text/x-python",
   "name": "python",
   "nbconvert_exporter": "python",
   "pygments_lexer": "ipython3",
   "version": "3.10.4"
  }
 },
 "nbformat": 4,
 "nbformat_minor": 5
}
