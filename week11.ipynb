{
 "cells": [
  {
   "cell_type": "markdown",
   "id": "d95cc6bc",
   "metadata": {},
   "source": [
    "week11"
   ]
  },
  {
   "cell_type": "code",
   "execution_count": 9,
   "id": "34906c17",
   "metadata": {},
   "outputs": [
    {
     "name": "stdout",
     "output_type": "stream",
     "text": [
      "파이썬 2\n",
      "파일 2\n",
      "읽기 2\n",
      "예제입니다. 2\n",
      "다양한 1\n",
      "메소드를 1\n",
      "공부해 1\n",
      "보세요. 1\n",
      "실력이 1\n",
      "팍팍 1\n",
      "늘 1\n",
      "거예요~ 1\n",
      "단어 1\n",
      "수를 1\n",
      "카운트하는 1\n",
      "실습 1\n"
     ]
    }
   ],
   "source": [
    "#실습문제1\n",
    "dic={}\n",
    "f=open('README.txt','r',encoding='UTF-8')\n",
    "for line in f:\n",
    "    line=line.strip() \n",
    "    words=line.split()\n",
    "    for data in words:\n",
    "        if data in dic:\n",
    "            dic[data]+=1\n",
    "        else:\n",
    "            dic[data]=1\n",
    "for data in dic:\n",
    "    print(data,dic[data])"
   ]
  },
  {
   "cell_type": "code",
   "execution_count": 13,
   "id": "4476ef39",
   "metadata": {},
   "outputs": [
    {
     "name": "stdout",
     "output_type": "stream",
     "text": [
      "( 1 , 2 )\n",
      "( 3 , 4 )\n",
      "( 1 , 2 )\n",
      "( 3 , 4 )\n"
     ]
    }
   ],
   "source": [
    "#실습문제2\n",
    "class Point:\n",
    "    def __init__(self,x,y):\n",
    "        self.x=x\n",
    "        self.y=y\n",
    "    def move(self,dx,dy):\n",
    "        self.x+=dx\n",
    "        self.y+=dy\n",
    "    def show(self):\n",
    "        print(\"(\",self.x,\",\",self.y,\")\")\n",
    "class Box(Point):\n",
    "    def __init__(self,p1,p2):\n",
    "        self.p1=p1\n",
    "        self.p2=p2\n",
    "    def move(self,dx,dy):\n",
    "        self.p1.move(dx,dy)\n",
    "        self.p2.move(dx,dy)\n",
    "    def show(self):\n",
    "        self.p1.show()\n",
    "        self.p2.show()\n",
    "p1=Point(1,2)\n",
    "p1.show()\n",
    "p2=Point(3,4)\n",
    "p2.show()\n",
    "\n",
    "b=Box(p1,p2)\n",
    "b.move(1,1)\n",
    "b.show()"
   ]
  },
  {
   "cell_type": "code",
   "execution_count": null,
   "id": "423b7c04",
   "metadata": {},
   "outputs": [],
   "source": []
  }
 ],
 "metadata": {
  "kernelspec": {
   "display_name": "Python 3 (ipykernel)",
   "language": "python",
   "name": "python3"
  },
  "language_info": {
   "codemirror_mode": {
    "name": "ipython",
    "version": 3
   },
   "file_extension": ".py",
   "mimetype": "text/x-python",
   "name": "python",
   "nbconvert_exporter": "python",
   "pygments_lexer": "ipython3",
   "version": "3.10.4"
  }
 },
 "nbformat": 4,
 "nbformat_minor": 5
}
