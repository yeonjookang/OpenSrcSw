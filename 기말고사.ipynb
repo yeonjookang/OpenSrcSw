{
 "cells": [
  {
   "cell_type": "code",
   "execution_count": 1,
   "id": "1c2f2fcf",
   "metadata": {},
   "outputs": [
    {
     "name": "stdout",
     "output_type": "stream",
     "text": [
      "백신이 가장 많이 접종된 날짜는 2021-06-27\n",
      "백신이 가장 적게 접종된 날짜는 2020-12-05\n",
      "백신이 가장 적게 접종된 날짜는 2020-12-06\n",
      "백신이 가장 적게 접종된 날짜는 2020-12-07\n",
      "백신이 가장 적게 접종된 날짜는 2020-12-03\n",
      "백신이 가장 적게 접종된 날짜는 2020-12-04\n"
     ]
    }
   ],
   "source": [
    "import csv\n",
    "file=open('country_vaccinations.csv',encoding='cp949')\n",
    "data=csv.reader(file)\n",
    "header=next(data)\n",
    "dic={}\n",
    "for row in data:\n",
    "    if row[2] in dic:\n",
    "        if(row[7]!=''):\n",
    "            dic[row[2]]+=float(row[7])\n",
    "    else:\n",
    "        if(row[7]!=''):\n",
    "            dic[row[2]]=float(row[7])\n",
    "data=dic.values()\n",
    "data_list=list(data)\n",
    "data_list.sort()\n",
    "\n",
    "data2=dic.keys();\n",
    "data2_list=list(data2)\n",
    "\n",
    "for row in data2_list:\n",
    "    if(dic[row]==data_list[0]):\n",
    "        print(\"백신이 가장 적게 접종된 날짜는\",row)\n",
    "    if(dic[row]==data_list[-1]):\n",
    "       print(\"백신이 가장 많이 접종된 날짜는\",row)"
   ]
  },
  {
   "cell_type": "code",
   "execution_count": null,
   "id": "5114bb9a",
   "metadata": {},
   "outputs": [],
   "source": [
    "import csv\n",
    "import pandas as pd\n",
    "import numpy as np\n",
    "file=open('country_vaccinations.csv',encoding='cp949')\n",
    "data=csv.reader(file)\n",
    "header=next(data)\n",
    "dic={}\n",
    "for row in data:\n",
    "    if row[-3] in dic:\n",
    "        if(row[-3]!=''):\n",
    "            dic[row[-3]]+=1\n",
    "    else:\n",
    "        if(row[-3]!=''):\n",
    "            dic[row[-3]]=1\n",
    "data=dic.values()\n",
    "data_list=list(data)\n",
    "data_list.sort()\n",
    "\n",
    "data2=dic.keys()\n",
    "data2_list=list(data2)\n",
    "\n",
    "df=pd.DataFrame()\n",
    "\n",
    "i=0\n",
    "for row in data2_list:\n",
    "    if(dic[row]==data_list[i]):\n",
    "        df[row]=dic[row]\n",
    "        i=i+1\n",
    "        "
   ]
  }
 ],
 "metadata": {
  "kernelspec": {
   "display_name": "Python 3 (ipykernel)",
   "language": "python",
   "name": "python3"
  },
  "language_info": {
   "codemirror_mode": {
    "name": "ipython",
    "version": 3
   },
   "file_extension": ".py",
   "mimetype": "text/x-python",
   "name": "python",
   "nbconvert_exporter": "python",
   "pygments_lexer": "ipython3",
   "version": "3.10.4"
  }
 },
 "nbformat": 4,
 "nbformat_minor": 5
}
